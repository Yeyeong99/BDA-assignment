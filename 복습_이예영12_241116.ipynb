{
  "cells": [
    {
      "cell_type": "markdown",
      "metadata": {
        "id": "view-in-github",
        "colab_type": "text"
      },
      "source": [
        "<a href=\"https://colab.research.google.com/github/Yeyeong99/bda/blob/main/%E1%84%87%E1%85%A9%E1%86%A8%E1%84%89%E1%85%B3%E1%86%B8_%EC%9D%B4%EC%98%88%EC%98%8112_241116.ipynb\" target=\"_parent\"><img src=\"https://colab.research.google.com/assets/colab-badge.svg\" alt=\"Open In Colab\"/></a>"
      ]
    },
    {
      "cell_type": "code",
      "execution_count": 1,
      "id": "04780307-b7e2-4eb4-bd15-ffd7145607e6",
      "metadata": {
        "id": "04780307-b7e2-4eb4-bd15-ffd7145607e6"
      },
      "outputs": [],
      "source": [
        "# 원본 데이터 이상치 범위\n",
        "\n",
        "# 수정된 min, max 데이터\n",
        "\n",
        "# 추가된 데이터 (값을 추가했을 때) 이상치 범위\n",
        "\n",
        "import numpy as np\n",
        "\n",
        "# 원본\n",
        "od_data = np.array([10, 12 ,14,14,15,16,16,18,19,20,21,22,25,28,30,35])\n",
        "\n",
        "# min, max 변경\n",
        "modi_data = np.array([2, 12 ,14,14,15,16,16,18,19,20,21,22,25,28,30,55])\n",
        "\n",
        "# 추가된 데이터\n",
        "extended_data = np.array([2, 12,14,14,15,16,16,18,19,20,21,22,25,28,30,50,55,56,70]) # 극단값 추가\n",
        "\n",
        "# 이상치를 계산하기 전\n",
        "#Q1, Q2, Q3 계산하는 공식\n",
        "# 이상치 탐지하는 기준 계산\n",
        "\n",
        "\n",
        "def cal_iqr(data):\n",
        "    # 분위수 측정\n",
        "    # Q1, Q3 를 측정\n",
        "    Q1 = np.percentile(data,25)\n",
        "    Q3 = np.percentile(data,75)\n",
        "\n",
        "    # 사분위 범위 IQR\n",
        "    IQR = Q3 - Q1\n",
        "\n",
        "    # 이상치 탐지 기준 정하기\n",
        "    # 1.5 값은 통상적인 값, 조정 가능\n",
        "    lower_bound = Q1 - 1.5 * IQR\n",
        "    upper_bound = Q3 + 1.5 * IQR\n",
        "\n",
        "    # 데이터 내에서 이상치 탐지해야 함\n",
        "    outliers = data[(data < lower_bound) | (data > upper_bound)]\n",
        "\n",
        "    # 결과 봔한\n",
        "    return {\n",
        "        'Data Count' : len(data),\n",
        "        'Q1' : Q1,\n",
        "        'Q3' : Q3,\n",
        "        'IQR' : IQR,\n",
        "        'Lower Bound' : lower_bound,\n",
        "        'Upper Bound' : upper_bound,\n",
        "        'Outliers' : outliers,\n",
        "    }\n",
        "\n"
      ]
    },
    {
      "cell_type": "code",
      "source": [
        "dataset={\n",
        "    'Original Data' : od_data,\n",
        "    'Modified Data' : modi_data,\n",
        "    'Extended_data' : extended_data,\n",
        "}\n",
        "\n",
        "# 결과저장\n",
        "results = {}\n",
        "\n",
        "for name, data in dataset.items():\n",
        "    results[name] = cal_iqr(data)\n",
        "\n",
        "# 출력 비교\n",
        "for name, result in results.items():\n",
        "    print(f'===={name}===')\n",
        "    for key, value in result.items():\n",
        "        print(f'{key}:{value}')\n",
        "    print('\\n')"
      ],
      "metadata": {
        "colab": {
          "base_uri": "https://localhost:8080/"
        },
        "id": "4SY1vf1uI0-O",
        "outputId": "5eec9a6a-54b0-4cf3-888b-f5521e60ba9c"
      },
      "id": "4SY1vf1uI0-O",
      "execution_count": 3,
      "outputs": [
        {
          "output_type": "stream",
          "name": "stdout",
          "text": [
            "====Original Data===\n",
            "Data Count:16\n",
            "Q1:14.75\n",
            "Q3:22.75\n",
            "IQR:8.0\n",
            "Lower Bound:2.75\n",
            "Upper Bound:34.75\n",
            "Outliers:[35]\n",
            "\n",
            "\n",
            "====Modified Data===\n",
            "Data Count:16\n",
            "Q1:14.75\n",
            "Q3:22.75\n",
            "IQR:8.0\n",
            "Lower Bound:2.75\n",
            "Upper Bound:34.75\n",
            "Outliers:[ 2 55]\n",
            "\n",
            "\n",
            "====Extended_data===\n",
            "Data Count:19\n",
            "Q1:15.5\n",
            "Q3:29.0\n",
            "IQR:13.5\n",
            "Lower Bound:-4.75\n",
            "Upper Bound:49.25\n",
            "Outliers:[50 55 56 70]\n",
            "\n",
            "\n"
          ]
        }
      ]
    },
    {
      "cell_type": "code",
      "execution_count": 4,
      "id": "baf5d94d-bc98-4dda-a491-5e85f3a05d3f",
      "metadata": {
        "colab": {
          "base_uri": "https://localhost:8080/"
        },
        "id": "baf5d94d-bc98-4dda-a491-5e85f3a05d3f",
        "outputId": "0a327b0a-5577-49ff-f54f-fecd4e8e6c0d"
      },
      "outputs": [
        {
          "output_type": "execute_result",
          "data": {
            "text/plain": [
              "2.0"
            ]
          },
          "metadata": {},
          "execution_count": 4
        }
      ],
      "source": [
        "np.percentile(modi_data,0)"
      ]
    },
    {
      "cell_type": "code",
      "execution_count": 5,
      "id": "792f1a4f-c8ca-4965-bdc8-0700a468d259",
      "metadata": {
        "colab": {
          "base_uri": "https://localhost:8080/"
        },
        "id": "792f1a4f-c8ca-4965-bdc8-0700a468d259",
        "outputId": "1b7a81ce-8116-4885-8032-2e71d3ee388f"
      },
      "outputs": [
        {
          "output_type": "execute_result",
          "data": {
            "text/plain": [
              "14.75"
            ]
          },
          "metadata": {},
          "execution_count": 5
        }
      ],
      "source": [
        "np.percentile(modi_data,25)"
      ]
    },
    {
      "cell_type": "code",
      "execution_count": 7,
      "id": "3a12aa56-1242-4b24-8f45-797639af099d",
      "metadata": {
        "colab": {
          "base_uri": "https://localhost:8080/"
        },
        "id": "3a12aa56-1242-4b24-8f45-797639af099d",
        "outputId": "5cf58183-7f2f-46ac-e646-958a10a1e224"
      },
      "outputs": [
        {
          "output_type": "execute_result",
          "data": {
            "text/plain": [
              "22.75"
            ]
          },
          "metadata": {},
          "execution_count": 7
        }
      ],
      "source": [
        "np.percentile(modi_data,75)"
      ]
    },
    {
      "cell_type": "code",
      "execution_count": 8,
      "id": "86a10b98-b5d0-4ca1-be5b-bc1b3cc86e6d",
      "metadata": {
        "colab": {
          "base_uri": "https://localhost:8080/"
        },
        "id": "86a10b98-b5d0-4ca1-be5b-bc1b3cc86e6d",
        "outputId": "d8fa4e7f-539c-4d4e-fd1f-80ad147bbaa9"
      },
      "outputs": [
        {
          "output_type": "execute_result",
          "data": {
            "text/plain": [
              "55.0"
            ]
          },
          "metadata": {},
          "execution_count": 8
        }
      ],
      "source": [
        "np.percentile(modi_data,100)"
      ]
    },
    {
      "cell_type": "code",
      "execution_count": 9,
      "id": "eaf4f047-6210-435c-97bb-a8a5eda13567",
      "metadata": {
        "colab": {
          "base_uri": "https://localhost:8080/"
        },
        "id": "eaf4f047-6210-435c-97bb-a8a5eda13567",
        "outputId": "9c01d255-b073-49ca-88aa-b1bd7e9a1019"
      },
      "outputs": [
        {
          "output_type": "execute_result",
          "data": {
            "text/plain": [
              "array([10, 12, 14, 14, 15, 16, 16, 18, 19, 20, 21, 22, 25, 28, 30, 35])"
            ]
          },
          "metadata": {},
          "execution_count": 9
        }
      ],
      "source": [
        "od_data"
      ]
    }
  ],
  "metadata": {
    "kernelspec": {
      "display_name": "Python 3 (ipykernel)",
      "language": "python",
      "name": "python3"
    },
    "language_info": {
      "codemirror_mode": {
        "name": "ipython",
        "version": 3
      },
      "file_extension": ".py",
      "mimetype": "text/x-python",
      "name": "python",
      "nbconvert_exporter": "python",
      "pygments_lexer": "ipython3",
      "version": "3.12.4"
    },
    "colab": {
      "provenance": [],
      "include_colab_link": true
    }
  },
  "nbformat": 4,
  "nbformat_minor": 5
}