{
  "cells": [
    {
      "cell_type": "markdown",
      "metadata": {
        "id": "view-in-github",
        "colab_type": "text"
      },
      "source": [
        "<a href=\"https://colab.research.google.com/github/Yeyeong99/bda/blob/main/%EB%B3%B5%EC%8A%B5_%EC%9D%B4%EC%98%88%EC%98%8112_250125.ipynb\" target=\"_parent\"><img src=\"https://colab.research.google.com/assets/colab-badge.svg\" alt=\"Open In Colab\"/></a>"
      ]
    },
    {
      "cell_type": "markdown",
      "source": [
        "## 통계적 추측\n",
        "1. 추정\n",
        " - 연구자가 모수에 대해 알고 있는 정보가 거의 없는 상황에서 모수(모비율, 모평균, 모분산 등)의 값은 얼마인가?\n",
        "    - 이에 대한 답을 표본을 추출한 정보를 이용하여 통계적으로 답하는 것\n",
        "\n",
        "2. 가설검정\n",
        " - 연구자가 모집단에 대해 약간의 정보를 가지고 있지만 그 정보가 확실한지 검증ㅇ하기 위하여\n",
        "   모집단에 대한 가설을 수립하고 추출한 표본의 통계량 값으로 가설의 채택 여부를 결정하는 통계적 방법\n",
        "\n",
        "3. 통계적 추정: 모집단에서 추출한 표본의 통계량을 이용하여 모수를 추정하는 일련의 과정\n",
        " - 전수조사가 불가능한 경우\n",
        " - 전수조사에 비용과 시간이 많이 소요되는 경우 (n이 너무 큰 경우)\n",
        "- 추정량: 모수 추정에 사용되는 표본통계량\n",
        " - 추정치: 추정량을 계산한 값\n",
        " - 점추정: 추정하고자 하는 모수를 하나의 값으로 추정하는 방법\n",
        " - 구간추정: 모수가 존재하리라 예상되는 구간을 신뢰수준 하에서 추정하는 방법\n",
        "\n",
        " > Q. 전국 청소년들이 투미하다 라는 단어의 뜻을 모르는 비율이 얼마나 될까?\n",
        " <br>A. 이를 알기 위해 표본통계량인 **'표본비율'** 이 사용되면 이 표본비율은 **'추정량'**\n",
        "     <br>표본을 추출하여 표본비율을 계산한 값이 94%라면 이는 **'추정치'**\n",
        "\n",
        "\n",
        "1. 점추정: 추정하고자 하는 모수를 하나의 값으로 추정하는 방법\n",
        "\n",
        "2. 구간추정: 모수가 존재하리라 예상되는 구간을 신뢰수준 하에서 추정하는 방법\n",
        "\n",
        " - 위의 예제에서, 모비율을 계산하기 위해 전국의 청소년을 대상으로 조사하고 싶으나 현실적으로 불가\n",
        "    - 모집단을 대표하는 표본 샘플을 이용하여 표본비율을 구하고, 이를 기반으로 점추정/구간추정\n",
        "\n",
        " - 즉, 표본추정량을 이용하여 모집단의 모수를 추정하는 것\n",
        "    - 표본추정량 -> 모집단의 모수\n",
        "    - 표본비율 p -> 모비율 pi\n",
        "    - 표본평균 x_bar -> 모평균 mu\n",
        "    - 표본분산 s^2 -> 모분산 sigma^2\n",
        "\n",
        "\n",
        "1-1. 점추정\n",
        " - 점추정에 사용되는 추정량: 표본평균, 중앙값, 최빈값, 비율, 분산\n",
        " - 조건: 불편성, 유효성, 일치성, 충족성\n",
        "    - 불편성: 추정량의 기댓값이 추정할 모수와 일치하는 성질 (편향이 없음)\n",
        "        - 과녁에서 중앙에 몰린 것을 의미 -> 불편추정량\n",
        "        - vs 중앙에 몰리지 않았으나 한 쪽에 몰림 -> 편의추정량\n",
        "    - 유효성: 불편성을 만족시키면서 분산이 최소인 성질 (변동성이 적은 추정량이 모수추정에 더 안정적이어서 유효함을 의미)\n",
        "        - 변동성이 적은 추정량에서 모수 추정을 더 안정적으로 할 수 있음\n",
        "            - 신뢰성, 타당도와 연결되는 문제\n",
        "    - 일치성: 표본의 크기가 증가할수록 추정량을 보다 신뢰할 수 있음\n",
        "        - 표본의 크기가 증가할수록 추정량을 보다 신뢰할 수 있음\n",
        "    - 충족성: 추정량이 모수에 관한 정보를 충분히 제공할 수 있는 정도 (-> 충족추정량)\n",
        "        - 추정량이 모수에 관한 정보를 충분히 제공할 수 있는 정도\n",
        "\n",
        "1-2. 구간추정\n",
        " - 구간에 대한 측정값, 신뢰수준하에서 범위를 구함\n",
        " - 모수의 참값이 포함되어 있을 구간을 표본의 정보를 이용하여 신뢰수준하에 범위를 구하는 방법\n",
        " - 신뢰수준, 1-a: 모수가 신뢰구간 안에 있을 확률\n",
        " - 유의수준, a: 모수가 신뢰구간을 벗어날 위험률\n",
        " - 신뢰구간: 모비율(모평균) -> (점추정치-오차한계, 점추정치+오차한계)\n",
        " - 신뢰한계: 점추정치 +- 오차한계\n",
        "\n",
        "\n",
        " 1-3. 모비율의 이해\n",
        " - 점추정: p_hat = x / n\n",
        " - 구간추정(신뢰한계): p_hat +- z_a/2 * sqrt(p_hat*(1-p_hat)/n)\n",
        "\n",
        "\n",
        " 1-4. 모평균의 이해\n",
        " - 모표준편차를 알고 있는 경우\n",
        " - 모표준편차를 모르는 경우\n",
        "\n",
        "  (1) 표본이 큰 경우 (n>=30): 정규분포 이용\n",
        "  \n",
        "  (2) 표본이 적은 경우 (n<30): t-분포 이용"
      ],
      "metadata": {
        "id": "zjlrNSvOefe8"
      },
      "id": "zjlrNSvOefe8"
    },
    {
      "cell_type": "markdown",
      "source": [
        "## Coding\n",
        "### 점추정 예제 코드"
      ],
      "metadata": {
        "id": "gHbwW1ragSxt"
      },
      "id": "gHbwW1ragSxt"
    },
    {
      "cell_type": "code",
      "execution_count": 2,
      "id": "5d403447-8b0c-483b-8daa-a059f0f5d81b",
      "metadata": {
        "colab": {
          "base_uri": "https://localhost:8080/"
        },
        "id": "5d403447-8b0c-483b-8daa-a059f0f5d81b",
        "outputId": "cbd3c805-dcbd-44a9-e6b5-49a91dba7115"
      },
      "outputs": [
        {
          "output_type": "stream",
          "name": "stdout",
          "text": [
            "시험 점수의 점추정(분산): 56.62\n"
          ]
        }
      ],
      "source": [
        "# 한 회사에서 0명의 직원들의 월급(단위: 만원)이 주어졌을 때, 표본 데이터를 통해 모집단의 평균 월급 추정하기\n",
        "import numpy as np\n",
        "\n",
        "## 평균 점추정\n",
        "# 표본 데이터 (직원들의 월급)\n",
        "scores = np.array([85, 90, 100, 95, 78, 92, 88, 76, 95, 89])\n",
        "\n",
        "# 표본 분산 (점추정)\n",
        "sample_variance = np.var(scores, ddof=1) # ddof = 1 : 표본 분산 계산 시 자유도 조정\n",
        "\n",
        "print(f\"시험 점수의 점추정(분산): {sample_variance:.2f}\")"
      ]
    },
    {
      "cell_type": "code",
      "execution_count": 3,
      "id": "6f3aaeba-336b-4eab-a13a-e23e19e56e5d",
      "metadata": {
        "colab": {
          "base_uri": "https://localhost:8080/"
        },
        "id": "6f3aaeba-336b-4eab-a13a-e23e19e56e5d",
        "outputId": "d9db45bd-067a-49a6-c7e2-07072cc257ae"
      },
      "outputs": [
        {
          "output_type": "stream",
          "name": "stdout",
          "text": [
            "제품의 불량률 점추정: 6.00%\n"
          ]
        }
      ],
      "source": [
        "## 모비율 점추정\n",
        "# 어떤 제품의 결함률을 조사한 결과, 100개 중 8개가 불량이었다. 모집단의 결함 비율을 점추정하기\n",
        "\n",
        "# 표본 데이터\n",
        "total_products = 200 # 전체 표본 수\n",
        "defective_products = 12 # 전체 불량제품 수\n",
        "\n",
        "# 비율 추정 (점추정)\n",
        "sample_proportion = defective_products / total_products\n",
        "\n",
        "print(f\"제품의 불량률 점추정: {sample_proportion:.2%}\")"
      ]
    },
    {
      "cell_type": "code",
      "execution_count": 5,
      "id": "81e1d447-8937-4a51-971a-f32e520eb625",
      "metadata": {
        "colab": {
          "base_uri": "https://localhost:8080/"
        },
        "id": "81e1d447-8937-4a51-971a-f32e520eb625",
        "outputId": "759f94f9-d164-45e8-e441-dc94a8f3a7d0"
      },
      "outputs": [
        {
          "output_type": "stream",
          "name": "stdout",
          "text": [
            "평균 키의 95% 신뢰구간: 169.46 cm - 178.54 cm\n"
          ]
        }
      ],
      "source": [
        "## 평균 구간추정\n",
        "# 10명의 학생 키(단위:cm) 데이터를 통해 모집단 평균 키의 95% 신뢰구간을 구하시오.\n",
        "import numpy as np\n",
        "from scipy import stats\n",
        "\n",
        "# 학생 키 데이터 (표본 데이터)\n",
        "heights = np.array([170, 165, 175, 190, 167, 180, 172, 168, 177, 181, 169, 174])\n",
        "\n",
        "# 표본 평균 및 표본 표준편차 계산\n",
        "sample_mean = np.mean(heights)\n",
        "sample_std = np.std(heights, ddof=1) # 자유도 1 적용\n",
        "\n",
        "# 신뢰수준 및 표본 크기\n",
        "confidence_level = 0.95\n",
        "n = len(heights)\n",
        "\n",
        "# t-분포의 임계값 (95% 신뢰수준, 자유도 n-1)\n",
        "t_critical = stats.t.ppf((1 + confidence_level) / 2, df = n-1)\n",
        "\n",
        "# 신뢰구간 계산\n",
        "margin_of_error = t_critical * (sample_std / np.sqrt(n))\n",
        "confidence_interval = (sample_mean - margin_of_error, sample_mean + margin_of_error)\n",
        "\n",
        "print(f\"평균 키의 95% 신뢰구간: {confidence_interval[0]:.2f} cm - {confidence_interval[1]:.2f} cm\")"
      ]
    },
    {
      "cell_type": "code",
      "execution_count": 8,
      "id": "2b47f702-139c-4c7d-9387-5623ffcc520f",
      "metadata": {
        "colab": {
          "base_uri": "https://localhost:8080/"
        },
        "id": "2b47f702-139c-4c7d-9387-5623ffcc520f",
        "outputId": "78ed9a44-6b18-45c6-aba7-add0703ee6ae"
      },
      "outputs": [
        {
          "output_type": "stream",
          "name": "stdout",
          "text": [
            "구매 비율의 95% 신뢰구간: 0.1649 - 0.2351\n"
          ]
        }
      ],
      "source": [
        "## 모비율 구간추정\n",
        "# 500명 중 100명이 특정 제품을 구매했다고 할 때, 구매비율의 95% 신뢰구간을 구하시오.\n",
        "import numpy as np\n",
        "from scipy.stats import norm\n",
        "\n",
        "# 표본 데이터\n",
        "sample_size = 500\n",
        "positive_cases = 100\n",
        "\n",
        "# 비율 추정\n",
        "sample_proportion = positive_cases / sample_size\n",
        "\n",
        "# 신뢰수준 설정\n",
        "confidence_level = 0.95\n",
        "\n",
        "# z-값\n",
        "z_critical = norm.ppf((1 + confidence_level) / 2)\n",
        "\n",
        "# 신뢰구간 계산\n",
        "margin_of_error = z_critical * np.sqrt((sample_proportion * (1 - sample_proportion)) / sample_size)\n",
        "confidence_interval = (sample_proportion - margin_of_error, sample_proportion + margin_of_error)\n",
        "\n",
        "print(f\"구매 비율의 95% 신뢰구간: {confidence_interval[0]:.4f} - {confidence_interval[1]:.4f}\")"
      ]
    },
    {
      "cell_type": "code",
      "execution_count": 9,
      "id": "b5939b17-a6ca-4902-a1a1-eb9d76c84753",
      "metadata": {
        "colab": {
          "base_uri": "https://localhost:8080/"
        },
        "id": "b5939b17-a6ca-4902-a1a1-eb9d76c84753",
        "outputId": "7ac026a6-4e7b-4584-93c4-aa925dae679d"
      },
      "outputs": [
        {
          "output_type": "stream",
          "name": "stdout",
          "text": [
            "제품 수명의 99% 신뢰구간: 8.44 - 14.96\n"
          ]
        }
      ],
      "source": [
        "## 모분산을 알고 있는 경우, 제품의 평균 수명을 99% 신뢰구간으로 추정하시오.\n",
        "## 모표준편차(a) = 4\n",
        "\n",
        "# 표본 데이터\n",
        "lifespan = np.array([10, 12, 14, 9, 11, 10, 15, 13, 12, 11])\n",
        "sigma = 4 # 모집단의 표준편차 # 알려진 값\n",
        "\n",
        "# 신뢰수준 설정 (99%)\n",
        "confidence_level = 0.99\n",
        "n = len(lifespan)\n",
        "sample_mean = np.mean(lifespan)\n",
        "\n",
        "# z값 (99% 신뢰수준)\n",
        "z_critical = norm.ppf((1 + confidence_level) / 2)\n",
        "\n",
        "# 신뢰구간 계산\n",
        "margin_of_error = z_critical * (sigma / np.sqrt(n))\n",
        "confidence_interval = (sample_mean - margin_of_error, sample_mean + margin_of_error)\n",
        "\n",
        "print(f\"제품 수명의 99% 신뢰구간: {confidence_interval[0]:.2f} - {confidence_interval[1]:.2f}\")"
      ]
    }
  ],
  "metadata": {
    "kernelspec": {
      "display_name": "Python 3 (ipykernel)",
      "language": "python",
      "name": "python3"
    },
    "language_info": {
      "codemirror_mode": {
        "name": "ipython",
        "version": 3
      },
      "file_extension": ".py",
      "mimetype": "text/x-python",
      "name": "python",
      "nbconvert_exporter": "python",
      "pygments_lexer": "ipython3",
      "version": "3.13.0"
    },
    "colab": {
      "provenance": [],
      "include_colab_link": true
    }
  },
  "nbformat": 4,
  "nbformat_minor": 5
}