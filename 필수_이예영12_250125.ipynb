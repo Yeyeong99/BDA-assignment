{
  "nbformat": 4,
  "nbformat_minor": 0,
  "metadata": {
    "colab": {
      "provenance": [],
      "authorship_tag": "ABX9TyMzlF7INzMmlcMoQ0drcW4Q",
      "include_colab_link": true
    },
    "kernelspec": {
      "name": "python3",
      "display_name": "Python 3"
    },
    "language_info": {
      "name": "python"
    }
  },
  "cells": [
    {
      "cell_type": "markdown",
      "metadata": {
        "id": "view-in-github",
        "colab_type": "text"
      },
      "source": [
        "<a href=\"https://colab.research.google.com/github/Yeyeong99/bda/blob/main/%ED%95%84%EC%88%98_%EC%9D%B4%EC%98%88%EC%98%8112_250125.ipynb\" target=\"_parent\"><img src=\"https://colab.research.google.com/assets/colab-badge.svg\" alt=\"Open In Colab\"/></a>"
      ]
    },
    {
      "cell_type": "code",
      "execution_count": 1,
      "metadata": {
        "id": "hua_-Dx3hebi"
      },
      "outputs": [],
      "source": [
        "# 평균 구간 추정\n",
        "# 30명의 나이 데이터를 통해 모집단의 나이 평균의 99% 신뢰구간 구하기"
      ]
    },
    {
      "cell_type": "code",
      "source": [
        "import numpy as np\n",
        "from scipy import stats\n",
        "\n",
        "# 나이 데이터\n",
        "ages = np.random.randint(100, size = 30)\n",
        "\n",
        "# 표본 평균 및 표본 표준편차 계산\n",
        "sample_mean = np.mean(ages)\n",
        "sample_std = np.std(ages, ddof = 1)\n",
        "\n",
        "# 신뢰수준 및 표본 크기\n",
        "confidence_level = 0.99\n",
        "n = len(ages)\n",
        "\n",
        "# t-분포의 임계값 (99% 신뢰수준, 자유도 n - 1)\n",
        "t_critical = stats.t.ppf((1 + confidence_level) / 2, df = n - 1)\n",
        "\n",
        "# 신뢰구간 계산\n",
        "margin_of_error = t_critical * (sample_std / np.sqrt(n))\n",
        "confidence_interval = (sample_mean - margin_of_error, sample_mean + margin_of_error)\n",
        "\n",
        "print(f\"평균 나이의 99% 신뢰구간: {confidence_interval[0]:.1f}세 - {confidence_interval[1]:.1f}세\")"
      ],
      "metadata": {
        "colab": {
          "base_uri": "https://localhost:8080/"
        },
        "id": "V2Oc_Tzdh1EE",
        "outputId": "ccefa0f6-1d5b-40eb-e9a4-1e095470b36b"
      },
      "execution_count": 7,
      "outputs": [
        {
          "output_type": "stream",
          "name": "stdout",
          "text": [
            "평균 나이의 99% 신뢰구간: 37.5세 - 66.4세\n"
          ]
        }
      ]
    },
    {
      "cell_type": "code",
      "source": [
        "# 모비율 구간 추정\n",
        "# 1000명 중 135명이 어린이집 입학에 당첨되었다고 할 때, 당첨률 95%의 신뢰구간\n",
        "import numpy as np\n",
        "from scipy.stats import norm\n",
        "\n",
        "\n",
        "# 표본 데이터\n",
        "sample_size = 1000\n",
        "positive_cases = 135\n",
        "\n",
        "# 비율 추정\n",
        "sample_proportion = positive_cases / sample_size\n",
        "\n",
        "# 신뢰수준 설정\n",
        "confidence_level = 0.95\n",
        "\n",
        "# z-값\n",
        "z_critical = norm.ppf((1 + confidence_level) / 2)\n",
        "\n",
        "# 신뢰구간 계산\n",
        "margin_of_error = z_critical * np.sqrt((sample_proportion * (1 - sample_proportion)) / sample_size)\n",
        "confidence_interval = (sample_proportion - margin_of_error, sample_proportion + margin_of_error)\n",
        "\n",
        "print(f\"당첨 비율의 95% 신뢰구간: {confidence_interval[0]:.4f} - {confidence_interval[1]:.4f}\")"
      ],
      "metadata": {
        "colab": {
          "base_uri": "https://localhost:8080/"
        },
        "id": "9E-Yk0ejiD4m",
        "outputId": "483d167c-24d6-43cd-d990-c160c53a2ee9"
      },
      "execution_count": 9,
      "outputs": [
        {
          "output_type": "stream",
          "name": "stdout",
          "text": [
            "당첨 비율의 95% 신뢰구간: 0.1138 - 0.1562\n"
          ]
        }
      ]
    },
    {
      "cell_type": "code",
      "source": [
        "##3. 모분산을 알고 있는 경우, 평균 점수를 95% 신뢰구간으로 추정\n",
        "## 모표준편차(a) = 3\n",
        "## 시험점수 분포에 대한 신뢰구간\n",
        "\n",
        "# 표본 데이터\n",
        "score = np.random.randint(100, size = 50)\n",
        "sigma = 2.5 # 모집단의 표준편차 # 알려진 값\n",
        "\n",
        "# 신뢰수준 설정 (95%)\n",
        "confidence_level = 0.95\n",
        "n = len(score)\n",
        "sample_mean = np.mean(score)\n",
        "\n",
        "# z값 (99% 신뢰수준)\n",
        "z_critical = norm.ppf((1 + confidence_level) / 2)\n",
        "\n",
        "# 신뢰구간 계산\n",
        "margin_of_error = z_critical * (sigma / np.sqrt(n))\n",
        "confidence_interval = (sample_mean - margin_of_error, sample_mean + margin_of_error)\n",
        "\n",
        "print(f\"점수의 95% 신뢰구간: {confidence_interval[0]:.2f} - {confidence_interval[1]:.2f}\")"
      ],
      "metadata": {
        "colab": {
          "base_uri": "https://localhost:8080/"
        },
        "id": "6dqqSekpjvJg",
        "outputId": "012b8505-11fa-4842-e5f8-dd4ba8b01eca"
      },
      "execution_count": 15,
      "outputs": [
        {
          "output_type": "stream",
          "name": "stdout",
          "text": [
            "점수의 95% 신뢰구간: 60.75 - 62.13\n"
          ]
        }
      ]
    },
    {
      "cell_type": "code",
      "source": [],
      "metadata": {
        "id": "sheOfaiGkHmr"
      },
      "execution_count": null,
      "outputs": []
    }
  ]
}